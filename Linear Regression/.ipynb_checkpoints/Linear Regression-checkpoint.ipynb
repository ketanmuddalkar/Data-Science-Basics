{
 "cells": [
  {
   "cell_type": "markdown",
   "metadata": {
    "tags": []
   },
   "source": [
    "# Understanding Linear Regression\n",
    "\n",
    "\n",
    "Linear Regression is the starting point for many of the beginner Machine Learning enthusiast. This notebook will act like a one stop shop for all the fundamentals related to Linear Regression and the concepts described here will form the basis of upcoming notebooks. We will be working with Finance Dataset and creating a linear regression model from scratch and later on use Scikit-Learn library which provides an out-of-the-box Linear Regression model. "
   ]
  },
  {
   "cell_type": "markdown",
   "metadata": {},
   "source": [
    "## What is Linear Regression?\n",
    "\n",
    "Linear regression is a statistically driven algorithm and is the most basic and commonly used predicitve analysis technique. This algorithm comes under ``` Supervised Machine Learning ``` criteria.  As the name suggest, this algorithm uses \"Regression\" as it's base. It mathematically models the unknown or dependent variable and the known or independent variable as a linear equation. For instance, suppose that you have data about your expenses and income for last year. Linear regression techniques analyze this data and determine that your expenses are half your income. They then calculate an unknown future expense by halving a future known income.\n"
   ]
  },
  {
   "cell_type": "markdown",
   "metadata": {},
   "source": [
    "We will take a look at **Insurance Dataset** in this notbook to understand more about the topic."
   ]
  },
  {
   "cell_type": "code",
   "execution_count": 1,
   "metadata": {},
   "outputs": [],
   "source": [
    "import pandas as pd\n",
    "import seaborn as sns"
   ]
  },
  {
   "cell_type": "code",
   "execution_count": null,
   "metadata": {},
   "outputs": [],
   "source": []
  }
 ],
 "metadata": {
  "interpreter": {
   "hash": "c9eb1642bf4a461b92ea198732d3fbcb0d1017648f763918de62df42d641219b"
  },
  "kernelspec": {
   "display_name": "Python 3 (ipykernel)",
   "language": "python",
   "name": "python3"
  },
  "language_info": {
   "codemirror_mode": {
    "name": "ipython",
    "version": 3
   },
   "file_extension": ".py",
   "mimetype": "text/x-python",
   "name": "python",
   "nbconvert_exporter": "python",
   "pygments_lexer": "ipython3",
   "version": "3.9.15"
  },
  "toc-autonumbering": false,
  "toc-showcode": false,
  "toc-showmarkdowntxt": false
 },
 "nbformat": 4,
 "nbformat_minor": 4
}
