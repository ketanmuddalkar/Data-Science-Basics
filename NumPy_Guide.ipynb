{
  "nbformat": 4,
  "nbformat_minor": 0,
  "metadata": {
    "colab": {
      "provenance": [],
      "mount_file_id": "1SzJxwRrAP2Zk5n5Gy39UeHer5TqQBcYo",
      "authorship_tag": "ABX9TyOzJwDN4BO2LlQiUQN1WaXc",
      "include_colab_link": true
    },
    "kernelspec": {
      "name": "python3",
      "display_name": "Python 3"
    },
    "language_info": {
      "name": "python"
    }
  },
  "cells": [
    {
      "cell_type": "markdown",
      "metadata": {
        "id": "view-in-github",
        "colab_type": "text"
      },
      "source": [
        "<a href=\"https://colab.research.google.com/github/ketanmuddalkar/Data-Science-Basics/blob/master/NumPy_Guide.ipynb\" target=\"_parent\"><img src=\"https://colab.research.google.com/assets/colab-badge.svg\" alt=\"Open In Colab\"/></a>"
      ]
    },
    {
      "cell_type": "markdown",
      "metadata": {
        "id": "xB7w-KAdoeyQ"
      },
      "source": [
        "# Understanding / Cheatsheet for NumPy\n",
        "---\n",
        "Hopefully this will be a good guide / cheatsheet for understanding NumPy.\n",
        "\n",
        "Documentation :-\n",
        "\n",
        "*  Numpy :- [Docs](https://numpy.org/) [Cheatsheet](http://datacamp-community-prod.s3.amazonaws.com/ba1fe95a-8b70-4d2f-95b0-bc954e9071b0)\n",
        "*  Routines :- [Cheatsheet](https://numpy.org/doc/stable/reference/routines.html)"
      ]
    },
    {
      "cell_type": "markdown",
      "metadata": {
        "id": "gfstvWOfvcub"
      },
      "source": [
        "## Numpy arrays vs Python Lists\n",
        "---\n",
        "\n",
        "Looking from a broader perspective, numpy arrays and python lists look awfully close to each other. But the truth is they are very different. The difference in performance is astronomically different. Let's run a piece of code which is doing a simple task of matrix addition and see the performance difference between the two."
      ]
    },
    {
      "cell_type": "code",
      "metadata": {
        "id": "ZycQ2_4a8f1m",
        "colab": {
          "base_uri": "https://localhost:8080/"
        },
        "outputId": "f8d778b6-3323-4421-acff-0813175cd911"
      },
      "source": [
        "import time\n",
        "import numpy as np\n",
        "\n",
        "size_of_vec = 1000\n",
        "\n",
        "def pure_python_version():\n",
        "    t1 = time.time()\n",
        "    X = range(size_of_vec)\n",
        "    Y = range(size_of_vec)\n",
        "    Z = [X[i] + Y[i] for i in range(len(X)) ]\n",
        "    return time.time() - t1\n",
        "\n",
        "def numpy_version():\n",
        "    t1 = time.time()\n",
        "    X = np.arange(size_of_vec)\n",
        "    Y = np.arange(size_of_vec)\n",
        "    Z = X + Y\n",
        "    return time.time() - t1\n",
        "\n",
        "\n",
        "t1 = pure_python_version()\n",
        "t2 = numpy_version()\n",
        "print(\"Performance of List:- \", t1)\n",
        "print(\"Performance of Numpy:- \", t2)\n",
        "print(\"Numpy in this example is :- \" + str(t1/t2) + \" faster!\")"
      ],
      "execution_count": null,
      "outputs": [
        {
          "output_type": "stream",
          "name": "stdout",
          "text": [
            "Performance of List:-  0.0002598762512207031\n",
            "Performance of Numpy:-  0.00022602081298828125\n",
            "Numpy in this example is :- 1.149789029535865 faster!\n"
          ]
        }
      ]
    },
    {
      "cell_type": "markdown",
      "metadata": {
        "id": "wCGGYLGiFBoL"
      },
      "source": [
        "## Understanding the difference\n",
        "---\n",
        "\n",
        "As you can see by the results, numpy arrays outclass python lists. Let's understand how they work now. \n",
        "\n",
        "![Reason.png](https://drive.google.com/uc?export=view&id=12g04Lx5N6coYC9F16QZp-jdILuzvbHCc)\n",
        "\n",
        "As you can see in the image above, while storing a numpy array you are only stroring the int values. But while storing a list there is a lot of additional meta data being stored, as a result the python interpreter has to access all these values stored at various locations and hence increasing the total time to perform such a simple operation. This is a very basic explaination for why numpy arrays are better than lists. If you want a more in-depth explaination [click here](https://python.plainenglish.io/python-list-vs-numpy-array-whats-the-difference-7308cd4b52f6)."
      ]
    },
    {
      "cell_type": "markdown",
      "metadata": {
        "id": "y3zsnzKHY0yP"
      },
      "source": [
        "## Getting Started\n",
        "---\n",
        "\n",
        "Let's get our hands dirty with numpy by initializing a numpy array."
      ]
    },
    {
      "cell_type": "code",
      "metadata": {
        "id": "HEis9esPCJn9"
      },
      "source": [
        "import numpy as np"
      ],
      "execution_count": null,
      "outputs": []
    },
    {
      "cell_type": "code",
      "metadata": {
        "colab": {
          "base_uri": "https://localhost:8080/"
        },
        "id": "OfRdBWKffOde",
        "outputId": "bd436991-17f4-4d4e-a43b-1a2b965c8956"
      },
      "source": [
        "a = np.array([1,2,3])           # From numpy calling array() function and passing in a list of values.\n",
        "\n",
        "a"
      ],
      "execution_count": null,
      "outputs": [
        {
          "output_type": "execute_result",
          "data": {
            "text/plain": [
              "array([1, 2, 3])"
            ]
          },
          "metadata": {},
          "execution_count": 119
        }
      ]
    },
    {
      "cell_type": "code",
      "metadata": {
        "colab": {
          "base_uri": "https://localhost:8080/"
        },
        "id": "eGGgcYYufdl0",
        "outputId": "cbde4c0f-1b2e-433e-f6e0-5118578c8772"
      },
      "source": [
        "one_dimention_array = np.array([1,2,3])                         # Initialising 1D array.\n",
        "two_dimention_array = np.array([[1,2,3],[4,5,6]])               # Initialising 2D array.\n",
        "\n",
        "print(\"1D array:- \\n\", one_dimention_array)\n",
        "print(\"\\n2D array:- \\n\", two_dimention_array)"
      ],
      "execution_count": null,
      "outputs": [
        {
          "output_type": "stream",
          "name": "stdout",
          "text": [
            "1D array:- \n",
            " [1 2 3]\n",
            "\n",
            "2D array:- \n",
            " [[1 2 3]\n",
            " [4 5 6]]\n"
          ]
        }
      ]
    },
    {
      "cell_type": "markdown",
      "metadata": {
        "id": "7ETJEFhKg5Fp"
      },
      "source": [
        "## Checking the dimentions of an array\n",
        "---"
      ]
    },
    {
      "cell_type": "code",
      "metadata": {
        "colab": {
          "base_uri": "https://localhost:8080/"
        },
        "id": "UTa3wC_QgBk2",
        "outputId": "c0f26452-5803-45d7-bccd-1eb540ffdb6a"
      },
      "source": [
        "dim_1 = one_dimention_array.ndim                            # Using ndim you can cross check the dimentions of a numpy array.\n",
        "dim_2 = two_dimention_array.ndim\n",
        "\n",
        "print(\"Dimentions of one_dimention_array array :- \", dim_1)\n",
        "print(\"Dimentions of two_dimention_array array :- \", dim_2)"
      ],
      "execution_count": null,
      "outputs": [
        {
          "output_type": "stream",
          "name": "stdout",
          "text": [
            "Dimentions of one_dimention_array array :-  1\n",
            "Dimentions of two_dimention_array array :-  2\n"
          ]
        }
      ]
    },
    {
      "cell_type": "markdown",
      "metadata": {
        "id": "WJAJSGwuhaC7"
      },
      "source": [
        "## Checking for shape of an array\n",
        "---\n",
        "\n",
        "Shape -> (number of rows, number of colums)\n",
        "\n",
        "**Please Note**  \n",
        "*  If a value is missing i.e. not displayed while using .shape() it is assumed that the value is 1.\n",
        "*  Generally, 1 dim arrays are displayed in multiple rows and 1 column. Hence, the shape comes out to be (nrows,)."
      ]
    },
    {
      "cell_type": "code",
      "metadata": {
        "colab": {
          "base_uri": "https://localhost:8080/"
        },
        "id": "Tqi0dlfvg23W",
        "outputId": "bf6c5f99-692e-4561-fbab-0260effc85a6"
      },
      "source": [
        "shape_1 = one_dimention_array.shape                         # Use the shape function to get shape of a numpy array.\n",
        "shape_2 = two_dimention_array.shape\n",
        "\n",
        "print(\"Shape of one_dimention_array :- \", shape_1)\n",
        "print(\"Shape of two_dimention_array :- \", shape_2)"
      ],
      "execution_count": null,
      "outputs": [
        {
          "output_type": "stream",
          "name": "stdout",
          "text": [
            "Shape of one_dimention_array :-  (3,)\n",
            "Shape of two_dimention_array :-  (2, 3)\n"
          ]
        }
      ]
    },
    {
      "cell_type": "markdown",
      "metadata": {
        "id": "5BSDiKtcjAiR"
      },
      "source": [
        "## Getting data type and memory values\n",
        "---"
      ]
    },
    {
      "cell_type": "code",
      "metadata": {
        "id": "0J9IasS2iJUw"
      },
      "source": [
        "a = np.array([10,20,30])\n",
        "b = np.array([[10,20,30],[40,50,60]])"
      ],
      "execution_count": null,
      "outputs": []
    },
    {
      "cell_type": "code",
      "metadata": {
        "colab": {
          "base_uri": "https://localhost:8080/"
        },
        "id": "J6o9gSLekM_p",
        "outputId": "a14174dc-82a1-4539-e5db-1327a386fac3"
      },
      "source": [
        "a.dtype         # Getting the Datatype of numpy array. By default it is set to int64."
      ],
      "execution_count": null,
      "outputs": [
        {
          "output_type": "execute_result",
          "data": {
            "text/plain": [
              "dtype('int64')"
            ]
          },
          "metadata": {},
          "execution_count": 124
        }
      ]
    },
    {
      "cell_type": "code",
      "metadata": {
        "colab": {
          "base_uri": "https://localhost:8080/"
        },
        "id": "vS3AVPSuUWKG",
        "outputId": "8f8ae97e-8bb7-4b19-ed3d-ea7ea77aaaa7"
      },
      "source": [
        "a = np.array([10,20,30], dtype='int16')     # You can set the datatype by yourself as well if you know the data well.\n",
        "                                            # You can also try int32, float16, float32 and many more.\n",
        "a.dtype"
      ],
      "execution_count": null,
      "outputs": [
        {
          "output_type": "execute_result",
          "data": {
            "text/plain": [
              "dtype('int16')"
            ]
          },
          "metadata": {},
          "execution_count": 125
        }
      ]
    },
    {
      "cell_type": "code",
      "metadata": {
        "colab": {
          "base_uri": "https://localhost:8080/"
        },
        "id": "vqbqyraZUi5n",
        "outputId": "a7fd3160-0e4b-4197-f199-662965b557ab"
      },
      "source": [
        "a = np.array([10,20,30], dtype='int32')                                 # Try changing the datatype to see how much memory is allocated.\n",
        "memory_used_a = a.itemsize                      \n",
        "memory_used_b = b.itemsize\n",
        "\n",
        "print(\"Memory used to store 1 element in a is :- \" + str(memory_used_a) + \" Bytes\")        # Since a array is of datatype int32 it takes 4 bytes to store one element.    \n",
        "print(\"Memory used to store 1 element in b is :- \" + str(memory_used_b) + \" Bytes\")        # Since b array is of datatype int64 it takes 8 bytes to store one element.\n",
        "print(\"Number of elements in a :- \" + str(a.size))                      # Simply returns total number of elements.\n",
        "print(\"Number of elements in b :- \" + str(b.size))"
      ],
      "execution_count": null,
      "outputs": [
        {
          "output_type": "stream",
          "name": "stdout",
          "text": [
            "Memory used to store 1 element in a is :- 4 Bytes\n",
            "Memory used to store 1 element in b is :- 8 Bytes\n",
            "Number of elements in a :- 3\n",
            "Number of elements in b :- 6\n"
          ]
        }
      ]
    },
    {
      "cell_type": "markdown",
      "metadata": {
        "id": "D-NpJzuBW_0J"
      },
      "source": [
        "**Please Note**  \n",
        "Don't get confused between *itemsize* and *size*. *itemsize* returns the **memory allocated** where as *size* return the number of elements in the specified array."
      ]
    },
    {
      "cell_type": "code",
      "metadata": {
        "colab": {
          "base_uri": "https://localhost:8080/"
        },
        "id": "XcISB-QKU24t",
        "outputId": "65d2c579-2c30-479d-9d05-f2a5f89269c5"
      },
      "source": [
        "# To get total memory allocated \n",
        "\n",
        "total_memory_a = a.nbytes\n",
        "total_memory_b = b.nbytes\n",
        "\n",
        "print(\"Total memory used by array a is :- \" + str(total_memory_a) + \" bytes\")       # 3 elements * 4 bytes = 14 bytes.\n",
        "print(\"Total memory used by array b is :- \" + str(total_memory_b) + \" bytes\")       # 6 elements * 8 bytes = 488 bytes."
      ],
      "execution_count": null,
      "outputs": [
        {
          "output_type": "stream",
          "name": "stdout",
          "text": [
            "Total memory used by array a is :- 12 bytes\n",
            "Total memory used by array b is :- 48 bytes\n"
          ]
        }
      ]
    },
    {
      "cell_type": "markdown",
      "metadata": {
        "id": "14T1m8NzXVyP"
      },
      "source": [
        "## Accessing and Changing specific element / row / column\n",
        "---\n",
        "\n",
        "[Cheatsheet](https://docs.scipy.org/doc/numpy-1.13.0/user/basics.indexing.html)"
      ]
    },
    {
      "cell_type": "code",
      "metadata": {
        "id": "vrnVGkN7U6E9",
        "colab": {
          "base_uri": "https://localhost:8080/"
        },
        "outputId": "4472357d-e801-4953-bae2-b3b1f070a834"
      },
      "source": [
        "a = np.array([[1,2,3,4,5,6,7],[8,9,10,11,12,13,14]])            # Initializing 2D array (2 rows x 7 rows).\n",
        "print(\"Array :- \\n\", a)\n",
        "print (\"Shape of a :- \", a.shape)"
      ],
      "execution_count": null,
      "outputs": [
        {
          "output_type": "stream",
          "name": "stdout",
          "text": [
            "Array :- \n",
            " [[ 1  2  3  4  5  6  7]\n",
            " [ 8  9 10 11 12 13 14]]\n",
            "Shape of a :-  (2, 7)\n"
          ]
        }
      ]
    },
    {
      "cell_type": "code",
      "metadata": {
        "colab": {
          "base_uri": "https://localhost:8080/"
        },
        "id": "mM7UcQGyX0uX",
        "outputId": "4e8657a9-c316-43e8-f857-b827c8ce70ef"
      },
      "source": [
        "# Accessing specific element. (Try to access '13').\n",
        "num_1 = a[1,5]                 # array_name[row,column].\n",
        "num_2 = a[1,-2]                # You can also you negative indexing to access the same value.\n",
        "\n",
        "print(num_1, num_2)"
      ],
      "execution_count": null,
      "outputs": [
        {
          "output_type": "stream",
          "name": "stdout",
          "text": [
            "13 13\n"
          ]
        }
      ]
    },
    {
      "cell_type": "code",
      "metadata": {
        "colab": {
          "base_uri": "https://localhost:8080/"
        },
        "id": "5dHOPVdsYcWf",
        "outputId": "60f82617-06a4-4d9e-adcc-9e8d796c4e00"
      },
      "source": [
        "# Accessing specific row.\n",
        "a[0,:]                         # Use the list notation to indicate that we need all the columns."
      ],
      "execution_count": null,
      "outputs": [
        {
          "output_type": "execute_result",
          "data": {
            "text/plain": [
              "array([1, 2, 3, 4, 5, 6, 7])"
            ]
          },
          "metadata": {},
          "execution_count": 130
        }
      ]
    },
    {
      "cell_type": "code",
      "metadata": {
        "colab": {
          "base_uri": "https://localhost:8080/"
        },
        "id": "VOsta4b7ZMHb",
        "outputId": "311d08e0-0190-44ca-8444-217ae9b250fc"
      },
      "source": [
        "# Accessing specific column.\n",
        "a[:,3]"
      ],
      "execution_count": null,
      "outputs": [
        {
          "output_type": "execute_result",
          "data": {
            "text/plain": [
              "array([ 4, 11])"
            ]
          },
          "metadata": {},
          "execution_count": 131
        }
      ]
    },
    {
      "cell_type": "code",
      "metadata": {
        "colab": {
          "base_uri": "https://localhost:8080/"
        },
        "id": "RnK6U5I2ZXJs",
        "outputId": "c9ff8282-8501-4670-b3fa-6d77adec0092"
      },
      "source": [
        "# Getting a bit fancy.  \n",
        "a[0,1:6:2]                     # Similar to lists, you can use [startindex:endindex:step] notation to get specific values."
      ],
      "execution_count": null,
      "outputs": [
        {
          "output_type": "execute_result",
          "data": {
            "text/plain": [
              "array([2, 4, 6])"
            ]
          },
          "metadata": {},
          "execution_count": 132
        }
      ]
    },
    {
      "cell_type": "code",
      "metadata": {
        "colab": {
          "base_uri": "https://localhost:8080/"
        },
        "id": "8iHVPH-yZy6J",
        "outputId": "7c66cbf6-abd1-4c74-f1c6-2b060ea0e355"
      },
      "source": [
        "# Changing element.\n",
        "a[1,5] = 20                    # Just set the element to whatever you want.\n",
        "a                              # You can do the same for entire row / column. "
      ],
      "execution_count": null,
      "outputs": [
        {
          "output_type": "execute_result",
          "data": {
            "text/plain": [
              "array([[ 1,  2,  3,  4,  5,  6,  7],\n",
              "       [ 8,  9, 10, 11, 12, 20, 14]])"
            ]
          },
          "metadata": {},
          "execution_count": 133
        }
      ]
    },
    {
      "cell_type": "code",
      "metadata": {
        "colab": {
          "base_uri": "https://localhost:8080/"
        },
        "id": "ORkD8DbkbnIu",
        "outputId": "ff7ba7c9-2e43-4ea0-c7af-277d2e644b96"
      },
      "source": [
        "# 3D Example.\n",
        "b = np.array([[[1,2],[3,4]],[[5,6],[7,8]]])\n",
        "b"
      ],
      "execution_count": null,
      "outputs": [
        {
          "output_type": "execute_result",
          "data": {
            "text/plain": [
              "array([[[1, 2],\n",
              "        [3, 4]],\n",
              "\n",
              "       [[5, 6],\n",
              "        [7, 8]]])"
            ]
          },
          "metadata": {},
          "execution_count": 134
        }
      ]
    },
    {
      "cell_type": "code",
      "metadata": {
        "colab": {
          "base_uri": "https://localhost:8080/"
        },
        "id": "Y9ZZP6kFcmnx",
        "outputId": "dc36960f-8213-4c17-ea72-733a48d3e78e"
      },
      "source": [
        "# Accessing '4'. (Work your way from outer layer to inner layer).\n",
        "b[0,1,1]"
      ],
      "execution_count": null,
      "outputs": [
        {
          "output_type": "execute_result",
          "data": {
            "text/plain": [
              "4"
            ]
          },
          "metadata": {},
          "execution_count": 135
        }
      ]
    },
    {
      "cell_type": "code",
      "metadata": {
        "colab": {
          "base_uri": "https://localhost:8080/"
        },
        "id": "5zYNi8PTe91F",
        "outputId": "5f12831e-3c99-48d8-8a46-342d22cf376f"
      },
      "source": [
        "# Replacing is similar to previous one.\n",
        "b[0,1,1] = 9\n",
        "b"
      ],
      "execution_count": null,
      "outputs": [
        {
          "output_type": "execute_result",
          "data": {
            "text/plain": [
              "array([[[1, 2],\n",
              "        [3, 9]],\n",
              "\n",
              "       [[5, 6],\n",
              "        [7, 8]]])"
            ]
          },
          "metadata": {},
          "execution_count": 136
        }
      ]
    },
    {
      "cell_type": "markdown",
      "metadata": {
        "id": "7UoVcIRLfcMv"
      },
      "source": [
        "## Initializing different types of array\n",
        "---\n",
        "\n",
        "Array Creation routine:- [Cheatsheet](https://numpy.org/doc/stable/reference/routines.array-creation.html)"
      ]
    },
    {
      "cell_type": "code",
      "metadata": {
        "colab": {
          "base_uri": "https://localhost:8080/"
        },
        "id": "Es0i29dBfPSW",
        "outputId": "4e3706e5-922e-452a-f805-43ce41752b1c"
      },
      "source": [
        "# Array containing all 0s.\n",
        "one_d = np.zeros(5)\n",
        "two_d = np.zeros((2,3))\n",
        "three_d = np.zeros((2,3,3))\n",
        "\n",
        "print(\"1D :- \\n\" + str(one_d) + \"\\n\\n\")\n",
        "print(\"2D :- \\n\" + str(two_d) + \"\\n\\n\")\n",
        "print(\"3D :- \\n\" + str(three_d))"
      ],
      "execution_count": null,
      "outputs": [
        {
          "output_type": "stream",
          "name": "stdout",
          "text": [
            "1D :- \n",
            "[0. 0. 0. 0. 0.]\n",
            "\n",
            "\n",
            "2D :- \n",
            "[[0. 0. 0.]\n",
            " [0. 0. 0.]]\n",
            "\n",
            "\n",
            "3D :- \n",
            "[[[0. 0. 0.]\n",
            "  [0. 0. 0.]\n",
            "  [0. 0. 0.]]\n",
            "\n",
            " [[0. 0. 0.]\n",
            "  [0. 0. 0.]\n",
            "  [0. 0. 0.]]]\n"
          ]
        }
      ]
    },
    {
      "cell_type": "code",
      "metadata": {
        "colab": {
          "base_uri": "https://localhost:8080/"
        },
        "id": "YnUxV9B8f7zO",
        "outputId": "b1b87e60-40ff-495c-ae5c-0f92d8b27c15"
      },
      "source": [
        "# Array containing all 1s.\n",
        "np.ones((2,3,3), dtype='float32')"
      ],
      "execution_count": null,
      "outputs": [
        {
          "output_type": "execute_result",
          "data": {
            "text/plain": [
              "array([[[1., 1., 1.],\n",
              "        [1., 1., 1.],\n",
              "        [1., 1., 1.]],\n",
              "\n",
              "       [[1., 1., 1.],\n",
              "        [1., 1., 1.],\n",
              "        [1., 1., 1.]]], dtype=float32)"
            ]
          },
          "metadata": {},
          "execution_count": 138
        }
      ]
    },
    {
      "cell_type": "code",
      "metadata": {
        "colab": {
          "base_uri": "https://localhost:8080/"
        },
        "id": "97t745xBm1uR",
        "outputId": "d8df87ff-0c1d-47d2-ce07-3e9ae516dfc7"
      },
      "source": [
        "# Array with specific number.\n",
        "\n",
        "np.full((3,3), 69)              # You can pass an array instead of (3,3) to form a new array with same dimensions as the specified array.\n",
        "                                # Usage :- np.full(a.shape, 69)."
      ],
      "execution_count": null,
      "outputs": [
        {
          "output_type": "execute_result",
          "data": {
            "text/plain": [
              "array([[69, 69, 69],\n",
              "       [69, 69, 69],\n",
              "       [69, 69, 69]])"
            ]
          },
          "metadata": {},
          "execution_count": 139
        }
      ]
    },
    {
      "cell_type": "code",
      "metadata": {
        "colab": {
          "base_uri": "https://localhost:8080/"
        },
        "id": "YnbcIbb1nJ9n",
        "outputId": "38db3e67-e662-4dd9-8c6b-227718b61363"
      },
      "source": [
        "# Array with random numbers.\n",
        "np.random.rand(4,2,3)          # If you want to pass a shape use np.random.random_sample(a.shape)."
      ],
      "execution_count": null,
      "outputs": [
        {
          "output_type": "execute_result",
          "data": {
            "text/plain": [
              "array([[[0.610639  , 0.70777587, 0.53239181],\n",
              "        [0.59905262, 0.68361608, 0.14863471]],\n",
              "\n",
              "       [[0.76555806, 0.04039051, 0.19345001],\n",
              "        [0.98565717, 0.6436131 , 0.73355561]],\n",
              "\n",
              "       [[0.60797998, 0.95085854, 0.19662676],\n",
              "        [0.74343957, 0.63057859, 0.38940108]],\n",
              "\n",
              "       [[0.99390018, 0.25637464, 0.56332034],\n",
              "        [0.3177808 , 0.20375979, 0.16547644]]])"
            ]
          },
          "metadata": {},
          "execution_count": 140
        }
      ]
    },
    {
      "cell_type": "code",
      "metadata": {
        "colab": {
          "base_uri": "https://localhost:8080/"
        },
        "id": "2zPwYl5ho-ox",
        "outputId": "f492d300-dedc-4cb8-928a-a1a9f48775f7"
      },
      "source": [
        "# Random integer values.\n",
        "np.random.randint(0, 7, size=(3,3))         # np.random.randint(start(inclusive),end(exclusive), size='<shape of you matrix>')."
      ],
      "execution_count": null,
      "outputs": [
        {
          "output_type": "execute_result",
          "data": {
            "text/plain": [
              "array([[4, 2, 1],\n",
              "       [5, 3, 6],\n",
              "       [0, 2, 3]])"
            ]
          },
          "metadata": {},
          "execution_count": 141
        }
      ]
    },
    {
      "cell_type": "code",
      "metadata": {
        "colab": {
          "base_uri": "https://localhost:8080/"
        },
        "id": "nB3y3C1Bpmff",
        "outputId": "b1890a26-ae8a-47d9-9c66-99250759131a"
      },
      "source": [
        "# Identity matrix\n",
        "np.identity(3)                              # Since identity matrix are always square it only requires 1 parameter."
      ],
      "execution_count": null,
      "outputs": [
        {
          "output_type": "execute_result",
          "data": {
            "text/plain": [
              "array([[1., 0., 0.],\n",
              "       [0., 1., 0.],\n",
              "       [0., 0., 1.]])"
            ]
          },
          "metadata": {},
          "execution_count": 142
        }
      ]
    },
    {
      "cell_type": "markdown",
      "metadata": {
        "id": "pKWC_WgKrkJ4"
      },
      "source": [
        "## Maths with numpy\n",
        "---\n",
        "Mathematical Functions:- [Cheatsheet](https://numpy.org/doc/stable/reference/routines.math.html)"
      ]
    },
    {
      "cell_type": "code",
      "metadata": {
        "colab": {
          "base_uri": "https://localhost:8080/"
        },
        "id": "N5yGmy04qFfb",
        "outputId": "94c24365-b1f6-4752-8b56-4805ce172374"
      },
      "source": [
        "a = np.array([1,2,3,4])\n",
        "a"
      ],
      "execution_count": null,
      "outputs": [
        {
          "output_type": "execute_result",
          "data": {
            "text/plain": [
              "array([1, 2, 3, 4])"
            ]
          },
          "metadata": {},
          "execution_count": 143
        }
      ]
    },
    {
      "cell_type": "code",
      "metadata": {
        "colab": {
          "base_uri": "https://localhost:8080/"
        },
        "id": "o9UGEsmQr14f",
        "outputId": "4302e950-d3c4-429f-d49d-ef6766978b7e"
      },
      "source": [
        "# Adds 2 to each element\n",
        "a + 2"
      ],
      "execution_count": null,
      "outputs": [
        {
          "output_type": "execute_result",
          "data": {
            "text/plain": [
              "array([3, 4, 5, 6])"
            ]
          },
          "metadata": {},
          "execution_count": 144
        }
      ]
    },
    {
      "cell_type": "code",
      "metadata": {
        "colab": {
          "base_uri": "https://localhost:8080/"
        },
        "id": "a7hjF0Mwr22o",
        "outputId": "16040865-f10d-4807-db64-86e8b2b2fadc"
      },
      "source": [
        "# Subtracts 2 from each element\n",
        "a - 2"
      ],
      "execution_count": null,
      "outputs": [
        {
          "output_type": "execute_result",
          "data": {
            "text/plain": [
              "array([-1,  0,  1,  2])"
            ]
          },
          "metadata": {},
          "execution_count": 145
        }
      ]
    },
    {
      "cell_type": "code",
      "metadata": {
        "colab": {
          "base_uri": "https://localhost:8080/"
        },
        "id": "qe8jDiT-r3hF",
        "outputId": "5d17c173-0359-4a96-ffa1-a0a8be1ff525"
      },
      "source": [
        "# Multiplies 2 to each element\n",
        "a * 2"
      ],
      "execution_count": null,
      "outputs": [
        {
          "output_type": "execute_result",
          "data": {
            "text/plain": [
              "array([2, 4, 6, 8])"
            ]
          },
          "metadata": {},
          "execution_count": 146
        }
      ]
    },
    {
      "cell_type": "code",
      "metadata": {
        "colab": {
          "base_uri": "https://localhost:8080/"
        },
        "id": "emY_d9Enr4HZ",
        "outputId": "453c6579-a4f2-466d-d4f7-1ecc51208ff0"
      },
      "source": [
        "# Divides each element by 2\n",
        "a / 2"
      ],
      "execution_count": null,
      "outputs": [
        {
          "output_type": "execute_result",
          "data": {
            "text/plain": [
              "array([0.5, 1. , 1.5, 2. ])"
            ]
          },
          "metadata": {},
          "execution_count": 147
        }
      ]
    },
    {
      "cell_type": "code",
      "metadata": {
        "colab": {
          "base_uri": "https://localhost:8080/"
        },
        "id": "NEv8MSktr4uz",
        "outputId": "c44db199-e55d-405d-cf21-6baabd2c843d"
      },
      "source": [
        "# Matrix Addition\n",
        "b = np.array([1,0,1,0])                 \n",
        "a + b"
      ],
      "execution_count": null,
      "outputs": [
        {
          "output_type": "execute_result",
          "data": {
            "text/plain": [
              "array([2, 2, 4, 4])"
            ]
          },
          "metadata": {},
          "execution_count": 148
        }
      ]
    },
    {
      "cell_type": "code",
      "metadata": {
        "colab": {
          "base_uri": "https://localhost:8080/"
        },
        "id": "qmEEfJpGsna8",
        "outputId": "d848588b-9af8-42f5-e77a-89540c23a102"
      },
      "source": [
        "# Each element to the power 2\n",
        "a ** 2"
      ],
      "execution_count": null,
      "outputs": [
        {
          "output_type": "execute_result",
          "data": {
            "text/plain": [
              "array([ 1,  4,  9, 16])"
            ]
          },
          "metadata": {},
          "execution_count": 149
        }
      ]
    },
    {
      "cell_type": "markdown",
      "metadata": {
        "id": "9YPnPh1yuq92"
      },
      "source": [
        "## Linear Algebra with numpy\n",
        "---\n",
        "Linear Algebra:- [Cheatsheet](https://numpy.org/doc/stable/reference/routines.linalg.html)  \n",
        "There is a lot more you can do. Please checkout the cheatsheet for more functions it is highly recommended.\n",
        "\n",
        "Things it can do:-  \n",
        "*  Determinants\n",
        "*  Trace\n",
        "*  Singular Vector Decomposition\n",
        "*  Eigen values / Eigen vectors\n",
        "*  Matrix Norm\n",
        "*  Inverse Matrix\n",
        "*  And much more..."
      ]
    },
    {
      "cell_type": "code",
      "metadata": {
        "colab": {
          "base_uri": "https://localhost:8080/"
        },
        "id": "LBwxU7HJs0lD",
        "outputId": "488817b0-1cd0-43e1-c8f8-e20f2664e67d"
      },
      "source": [
        "# Creating 2 arrays.\n",
        "a = np.ones((2,3))\n",
        "print(\"A :- \\n\", a)\n",
        "\n",
        "b = np.full((3,2), 2)\n",
        "print(\" B:- \\n\", b)"
      ],
      "execution_count": null,
      "outputs": [
        {
          "output_type": "stream",
          "name": "stdout",
          "text": [
            "A :- \n",
            " [[1. 1. 1.]\n",
            " [1. 1. 1.]]\n",
            " B:- \n",
            " [[2 2]\n",
            " [2 2]\n",
            " [2 2]]\n"
          ]
        }
      ]
    },
    {
      "cell_type": "code",
      "metadata": {
        "colab": {
          "base_uri": "https://localhost:8080/"
        },
        "id": "ZkgAXdNYwCr_",
        "outputId": "112224a5-ea57-4f2e-884d-b1f1d2d78be6"
      },
      "source": [
        "# Matrix Multiplication. (Uses matrix multiplication rules)\n",
        "np.matmul(a,b)              # multiplying a with b"
      ],
      "execution_count": null,
      "outputs": [
        {
          "output_type": "execute_result",
          "data": {
            "text/plain": [
              "array([[6., 6.],\n",
              "       [6., 6.]])"
            ]
          },
          "metadata": {},
          "execution_count": 151
        }
      ]
    },
    {
      "cell_type": "code",
      "metadata": {
        "colab": {
          "base_uri": "https://localhost:8080/"
        },
        "id": "TXm1oRX8wdlp",
        "outputId": "975bbde8-7836-416a-bca9-ae4dd13158de"
      },
      "source": [
        "# Finding determinant.\n",
        "c = np.identity(3)\n",
        "np.linalg.det(c)"
      ],
      "execution_count": null,
      "outputs": [
        {
          "output_type": "execute_result",
          "data": {
            "text/plain": [
              "1.0"
            ]
          },
          "metadata": {},
          "execution_count": 152
        }
      ]
    },
    {
      "cell_type": "code",
      "metadata": {
        "colab": {
          "base_uri": "https://localhost:8080/"
        },
        "id": "HEs5HL1dw1Qu",
        "outputId": "6b2ce83d-6ccc-495b-9c52-e8823cc3121f"
      },
      "source": [
        "# Getting the Eigen values.\n",
        "d = np.array([[2,4],[8,4]])\n",
        "\n",
        "np.linalg.inv(d)"
      ],
      "execution_count": null,
      "outputs": [
        {
          "output_type": "execute_result",
          "data": {
            "text/plain": [
              "array([[-0.16666667,  0.16666667],\n",
              "       [ 0.33333333, -0.08333333]])"
            ]
          },
          "metadata": {},
          "execution_count": 153
        }
      ]
    },
    {
      "cell_type": "markdown",
      "metadata": {
        "id": "N4lA-ss3_xSx"
      },
      "source": [
        "## Statistics with numpy\n",
        "---\n"
      ]
    },
    {
      "cell_type": "code",
      "metadata": {
        "colab": {
          "base_uri": "https://localhost:8080/"
        },
        "id": "nZzHd7hRxVbN",
        "outputId": "488a3555-c2dd-450b-c063-2f088ec66b34"
      },
      "source": [
        "stats = np.array([[1,2,3],[4,5,6]])\n",
        "stats"
      ],
      "execution_count": null,
      "outputs": [
        {
          "output_type": "execute_result",
          "data": {
            "text/plain": [
              "array([[1, 2, 3],\n",
              "       [4, 5, 6]])"
            ]
          },
          "metadata": {},
          "execution_count": 154
        }
      ]
    },
    {
      "cell_type": "code",
      "metadata": {
        "colab": {
          "base_uri": "https://localhost:8080/"
        },
        "id": "0WNZL0QBAxJc",
        "outputId": "68d49e54-6d31-4b0b-fda9-a879f3821021"
      },
      "source": [
        "# Finding min and max values.\n",
        "min_value = np.min(stats)\n",
        "max_value = np.max(stats)\n",
        "\n",
        "print(\"Min Value :- \", min_value)\n",
        "print(\"Max Value :- \", max_value)"
      ],
      "execution_count": null,
      "outputs": [
        {
          "output_type": "stream",
          "name": "stdout",
          "text": [
            "Min Value :-  1\n",
            "Max Value :-  6\n"
          ]
        }
      ]
    },
    {
      "cell_type": "code",
      "metadata": {
        "colab": {
          "base_uri": "https://localhost:8080/"
        },
        "id": "0Y04GHwjBNQL",
        "outputId": "9edf6a09-828d-439c-a4d3-9e1048d380f8"
      },
      "source": [
        "# Sum of matrix.\n",
        "sum = np.sum(stats)                     # If you pass in 1 arg it'll calculate sum of all elements. \n",
        "                                        # If you pass 2 or more args it'll do matrix addition.\n",
        "print(\"Sum of all the elements :- \", sum)"
      ],
      "execution_count": null,
      "outputs": [
        {
          "output_type": "stream",
          "name": "stdout",
          "text": [
            "Sum of all the elements :-  21\n"
          ]
        }
      ]
    },
    {
      "cell_type": "markdown",
      "metadata": {
        "id": "vfaOmt0QbpgE"
      },
      "source": [
        "## Reorganising Arrays\n",
        "---\n",
        "\n",
        "Cheatsheet :- [Link](https://numpy.org/doc/stable/reference/routines.array-manipulation.html)"
      ]
    },
    {
      "cell_type": "code",
      "metadata": {
        "colab": {
          "base_uri": "https://localhost:8080/"
        },
        "id": "y58IbYIlBnjM",
        "outputId": "b73e5d6a-cb79-4db0-f69c-3c896fb5bb28"
      },
      "source": [
        "# Reshaping the structure of numpy array.\n",
        "before = np.array([[1,2,3,4],[5,6,7,8]])\n",
        "print(\"Shape Before :- \", before.shape)\n",
        "print(\"Array :- \\n\", str(before))\n",
        "\n",
        "print(\"\\n\")\n",
        "\n",
        "after = before.reshape((4,2))               # Reshape allows you to re-order the elements into other shape.\n",
        "\n",
        "\n",
        "print(\"Shape After :- \", after.shape)\n",
        "print(\"Array :- \\n\", str(after))"
      ],
      "execution_count": null,
      "outputs": [
        {
          "output_type": "stream",
          "name": "stdout",
          "text": [
            "Shape Before :-  (2, 4)\n",
            "Array :- \n",
            " [[1 2 3 4]\n",
            " [5 6 7 8]]\n",
            "\n",
            "\n",
            "Shape After :-  (4, 2)\n",
            "Array :- \n",
            " [[1 2]\n",
            " [3 4]\n",
            " [5 6]\n",
            " [7 8]]\n"
          ]
        }
      ]
    },
    {
      "cell_type": "code",
      "metadata": {
        "colab": {
          "base_uri": "https://localhost:8080/"
        },
        "id": "qwDVx3bmcPy6",
        "outputId": "66ed1a07-7d97-4591-b6cb-64780ed775e2"
      },
      "source": [
        "# Vertically Stacking two arrays.\n",
        "v1 = np.array([1,2,3,4])\n",
        "v2 = np.array([5,6,7,8])\n",
        "\n",
        "np.vstack([v1,v2])"
      ],
      "execution_count": null,
      "outputs": [
        {
          "output_type": "execute_result",
          "data": {
            "text/plain": [
              "array([[1, 2, 3, 4],\n",
              "       [5, 6, 7, 8]])"
            ]
          },
          "metadata": {},
          "execution_count": 172
        }
      ]
    },
    {
      "cell_type": "code",
      "metadata": {
        "colab": {
          "base_uri": "https://localhost:8080/"
        },
        "id": "sqk3exKrgeCM",
        "outputId": "3ac2306b-d25b-4b3f-9ad2-8d5e6c8b3e8b"
      },
      "source": [
        "# You can also do this.\n",
        "np.vstack([v1,v2,v1,v2]) "
      ],
      "execution_count": null,
      "outputs": [
        {
          "output_type": "execute_result",
          "data": {
            "text/plain": [
              "array([[1, 2, 3, 4],\n",
              "       [5, 6, 7, 8],\n",
              "       [1, 2, 3, 4],\n",
              "       [5, 6, 7, 8]])"
            ]
          },
          "metadata": {},
          "execution_count": 173
        }
      ]
    },
    {
      "cell_type": "code",
      "metadata": {
        "colab": {
          "base_uri": "https://localhost:8080/"
        },
        "id": "Oh8RVkHxgnFB",
        "outputId": "30c770cd-e6e6-4e29-82b4-d07ad0323734"
      },
      "source": [
        "# Horizontal Stacking.\n",
        "h1 = np.ones((2,4))\n",
        "h2 = np.zeros((2,2))\n",
        "\n",
        "np.hstack([h1,h2])"
      ],
      "execution_count": null,
      "outputs": [
        {
          "output_type": "execute_result",
          "data": {
            "text/plain": [
              "array([[1., 1., 1., 1., 0., 0.],\n",
              "       [1., 1., 1., 1., 0., 0.]])"
            ]
          },
          "metadata": {},
          "execution_count": 175
        }
      ]
    },
    {
      "cell_type": "code",
      "metadata": {
        "id": "-4-XXRWdgySZ"
      },
      "source": [],
      "execution_count": null,
      "outputs": []
    }
  ]
}